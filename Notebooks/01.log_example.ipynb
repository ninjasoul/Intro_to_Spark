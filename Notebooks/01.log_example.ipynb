{
 "cells": [
  {
   "cell_type": "code",
   "execution_count": null,
   "metadata": {
    "collapsed": true
   },
   "outputs": [],
   "source": [
    "# load error messages from a log into memory\n",
    "# then interactively search for patterns\n",
    "\n",
    "# base RDD\n",
    "lines = sc.textFile(\"/mnt/paco/intro/error_log.txt\") \\\n",
    " .map(lambda x: x.split(\"\\t\"))\n",
    "\n",
    "# transformed RDDs\n",
    "errors = lines.filter(lambda x: x[0] == \"ERROR\")\n",
    "messages = errors.map(lambda x: x[1])\n",
    "\n",
    "# persistence\n",
    "messages.cache()\n",
    "\n",
    "# action 1\n",
    "messages.filter(lambda x: x.find(\"mysql\") > -1).count()\n",
    "\n",
    "# action 2\n",
    "messages.filter(lambda x: x.find(\"php\") > -1).count()"
   ]
  },
  {
   "cell_type": "markdown",
   "metadata": {},
   "source": [
    "When we arrive at a place in our code where we have a RDD which we know would be used in a lot of the computations, it makes sense to persist it in memory. This is done by the `cache()` function. Afetr persisting, the results are recomputed.\n",
    "\n",
    "`cache()` is a directive that tells the worker nodes that *if possible* persist the RDD in memory. There is a **LRU** or Least Recently Used mechanism along with caching so you will get some evictions. cache is just a directive and it doesn't happen right away and only happens when the intermediate results are computed.\n",
    "\n",
    "action 2 above will be *faster* than action 1 here because the second time messages gets used it will already be loaded in memory."
   ]
  },
  {
   "cell_type": "code",
   "execution_count": null,
   "metadata": {
    "collapsed": true
   },
   "outputs": [],
   "source": [
    "# action 1\n",
    "x = messages.filter(lambda x: x.find(\"mysql\") > -1).count()\n",
    "print x.toDebugString()"
   ]
  },
  {
   "cell_type": "markdown",
   "metadata": {},
   "source": [
    "`toDebugString()` is a method that displays the operator graph constructed upto that point and is useful in debugging Spark applications. "
   ]
  }
 ],
 "metadata": {
  "kernelspec": {
   "display_name": "Python 2",
   "language": "python",
   "name": "python2"
  },
  "language_info": {
   "codemirror_mode": {
    "name": "ipython",
    "version": 2
   },
   "file_extension": ".py",
   "mimetype": "text/x-python",
   "name": "python",
   "nbconvert_exporter": "python",
   "pygments_lexer": "ipython2",
   "version": "2.7.9"
  }
 },
 "nbformat": 4,
 "nbformat_minor": 0
}
